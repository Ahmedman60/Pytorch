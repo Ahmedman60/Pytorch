{
 "cells": [
  {
   "cell_type": "code",
   "execution_count": null,
   "id": "35ded809",
   "metadata": {},
   "outputs": [],
   "source": [
    "# -*- coding: utf-8 -*-\n",
    "from torchvision import transforms\n",
    "from torch.utils.data import Dataset\n",
    "import os\n",
    "import numpy as np\n",
    "import pandas as pd\n",
    "from PIL import Image\n",
    "import matplotlib.pyplot as plt\n",
    "# Define a function to load captions from a .txt file\n",
    "\n",
    "\n",
    "data = pd.read_csv(\"wmt14_translate_de-en_validation.csv\", sep=',',\n",
    "                   header=0, index_col=0, engine='python', encoding='utf-8')\n",
    "\n",
    "print(data.head(5))"
   ]
  }
 ],
 "metadata": {
  "kernelspec": {
   "display_name": "Python 3 (ipykernel)",
   "language": "python",
   "name": "python3"
  },
  "language_info": {
   "codemirror_mode": {
    "name": "ipython",
    "version": 3
   },
   "file_extension": ".py",
   "mimetype": "text/x-python",
   "name": "python",
   "nbconvert_exporter": "python",
   "pygments_lexer": "ipython3",
   "version": "3.10.2"
  }
 },
 "nbformat": 4,
 "nbformat_minor": 5
}
