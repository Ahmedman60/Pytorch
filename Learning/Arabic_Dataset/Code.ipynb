{
 "cells": [
  {
   "cell_type": "code",
   "execution_count": 41,
   "id": "fb46afaa",
   "metadata": {},
   "outputs": [],
   "source": [
    "import pandas as pd"
   ]
  },
  {
   "cell_type": "code",
   "execution_count": 42,
   "id": "4287fa7f",
   "metadata": {},
   "outputs": [],
   "source": [
    "\n",
    "def excel_to_csv_arabic(excel_file_path, csv_output_path):\n",
    "    \"\"\"\n",
    "    Convert Excel file containing Arabic text to CSV with proper encoding\n",
    "    \n",
    "    Parameters:\n",
    "    excel_file_path (str): Path to the input Excel file\n",
    "    csv_output_path (str): Path where the CSV file will be saved\n",
    "    \n",
    "    Returns:\n",
    "    None\n",
    "    \"\"\"\n",
    "    df = pd.read_excel(excel_file_path)\n",
    "    \n",
    "    df.to_csv(csv_output_path, encoding='utf-8-sig', index=False)\n",
    "    \n",
    "    # Verify the file was created\n",
    "    try:\n",
    "        # Test reading the CSV file back\n",
    "        test_df = pd.read_csv(csv_output_path, encoding='utf-8-sig')\n",
    "        print(\"Conversion successful!\")\n",
    "        return test_df\n",
    "    except Exception as e:\n",
    "        print(f\"Error verifying the CSV file: {e}\")\n",
    "        return None\n",
    "\n",
    "# Example usage\n",
    "#excel_to_csv_arabic('Data_Original.xlsx', 'data.csv')"
   ]
  },
  {
   "cell_type": "code",
   "execution_count": 43,
   "id": "9520e629",
   "metadata": {},
   "outputs": [],
   "source": [
    "#!pip3 install openpyxl"
   ]
  },
  {
   "cell_type": "code",
   "execution_count": 61,
   "id": "7667d64e",
   "metadata": {},
   "outputs": [],
   "source": [
    "def Data_read():\n",
    "    file_path = 'data.csv'\n",
    "    df = pd.read_csv(file_path, encoding='utf-8-sig')\n",
    "    df.head(5)\n",
    "    #removing \\n from the column names\n",
    "    df.columns = df.columns.str.replace('\\n', '')\n",
    "    #remove last space from column names\n",
    "    df.columns = df.columns.str.strip()\n",
    "    #remove the . at the end\n",
    "    df.columns = df.columns.str.rstrip('.')\n",
    "    return df\n"
   ]
  },
  {
   "cell_type": "code",
   "execution_count": 62,
   "id": "560783c4",
   "metadata": {},
   "outputs": [
    {
     "data": {
      "text/html": [
       "<div>\n",
       "<style scoped>\n",
       "    .dataframe tbody tr th:only-of-type {\n",
       "        vertical-align: middle;\n",
       "    }\n",
       "\n",
       "    .dataframe tbody tr th {\n",
       "        vertical-align: top;\n",
       "    }\n",
       "\n",
       "    .dataframe thead th {\n",
       "        text-align: right;\n",
       "    }\n",
       "</style>\n",
       "<table border=\"1\" class=\"dataframe\">\n",
       "  <thead>\n",
       "    <tr style=\"text-align: right;\">\n",
       "      <th></th>\n",
       "      <th>النوع</th>\n",
       "      <th>العمر</th>\n",
       "      <th>الحالة الإجتماعية</th>\n",
       "      <th>المستوى التعليمى</th>\n",
       "      <th>دراسات عليا</th>\n",
       "      <th>مدة الخدمة فى الوظيفة الحالية</th>\n",
       "      <th>الإدارة العليا تسعى بإستمرار الى تحسين الآداء</th>\n",
       "      <th>توفر الادارة للعاملين كافة المتطلبات لإكتساب المهارات اللازمة للتفاعل مع التكنولوجيا</th>\n",
       "      <th>تشجع الإدارة العاملين على ابتكار طرق جديدة للتعامل مع التقنيات الرقمية</th>\n",
       "      <th>الإدارة العليا تتفاوض بشكل فعال لإزالة العقبات</th>\n",
       "      <th>...</th>\n",
       "      <th>يقترح اساليب وطرق جديدة لتحقيق الأهداف التنظيمية</th>\n",
       "      <th>يبحث العاملون عن افكار جديدة لتحسين استخدام التكنولوجيا بالادارة</th>\n",
       "      <th>تجعلنى التكنولوجيا اكثر انتاجاً</th>\n",
       "      <th>تساعدنى التكنولوجيا الرقمية الى تحسين الطريقة التى اعمل بها فى الجامعة</th>\n",
       "      <th>تؤدى التكنولوجيا الرقمية الى تحسين الطريقة التى اعمل بها فى الجامعة</th>\n",
       "      <th>تجعلنى التكنولوجيا اكثر انتاجاً</th>\n",
       "      <th>يساهم التحول الرقمى فى تحسين كفاءتى فى العمل</th>\n",
       "      <th>تساهم التكنولوجيا الجديدة فى ربط الجامعة بكافة المتعاملين معه من خلال المنصات الإفتراضية</th>\n",
       "      <th>تساهم التكنولوجيا الجديدة فى تيسير عمليات التواصل والتفاعل مع الطلاب</th>\n",
       "      <th>ادى استخدام التكنولوجيا الجديدة الى تخفيض عدد المستويات الادارية</th>\n",
       "    </tr>\n",
       "  </thead>\n",
       "  <tbody>\n",
       "    <tr>\n",
       "      <th>0</th>\n",
       "      <td>ذكر</td>\n",
       "      <td>من 20 سنة - إلى أقل من 30 سنة</td>\n",
       "      <td>مطلق</td>\n",
       "      <td>معهد عالى</td>\n",
       "      <td>دبلومة - ماجستير</td>\n",
       "      <td>من سنة إلى اقل من5 سنوات</td>\n",
       "      <td>غير موافق</td>\n",
       "      <td>غير موافق</td>\n",
       "      <td>الى حد ما</td>\n",
       "      <td>غير موافق</td>\n",
       "      <td>...</td>\n",
       "      <td>الى حد ما</td>\n",
       "      <td>غير موافق</td>\n",
       "      <td>الى حد ما</td>\n",
       "      <td>غير موافق</td>\n",
       "      <td>غير موافق</td>\n",
       "      <td>الى حد ما</td>\n",
       "      <td>غير موافق</td>\n",
       "      <td>غير موافق</td>\n",
       "      <td>غير موافق</td>\n",
       "      <td>غير موافق</td>\n",
       "    </tr>\n",
       "    <tr>\n",
       "      <th>1</th>\n",
       "      <td>أنثى</td>\n",
       "      <td>من 40 سنة - إلى أقل من 50 سنة</td>\n",
       "      <td>متزوج</td>\n",
       "      <td>جامعى (ليسانس - بكالوريوس )</td>\n",
       "      <td>دكتوراه</td>\n",
       "      <td>من 15سنة - إلى أقل من 20 سنة</td>\n",
       "      <td>موافق</td>\n",
       "      <td>موافق</td>\n",
       "      <td>موافق</td>\n",
       "      <td>موافق</td>\n",
       "      <td>...</td>\n",
       "      <td>موافق</td>\n",
       "      <td>موافق</td>\n",
       "      <td>موافق</td>\n",
       "      <td>موافق تماما</td>\n",
       "      <td>موافق تماما</td>\n",
       "      <td>موافق</td>\n",
       "      <td>موافق تماما</td>\n",
       "      <td>موافق</td>\n",
       "      <td>موافق</td>\n",
       "      <td>الى حد ما</td>\n",
       "    </tr>\n",
       "    <tr>\n",
       "      <th>2</th>\n",
       "      <td>ذكر</td>\n",
       "      <td>من 50 سنة – فأكثر</td>\n",
       "      <td>متزوج</td>\n",
       "      <td>جامعى (ليسانس - بكالوريوس )</td>\n",
       "      <td>دبلومة - ماجستير</td>\n",
       "      <td>من 20 سنة – فأكثر</td>\n",
       "      <td>موافق</td>\n",
       "      <td>الى حد ما</td>\n",
       "      <td>موافق</td>\n",
       "      <td>موافق</td>\n",
       "      <td>...</td>\n",
       "      <td>الى حد ما</td>\n",
       "      <td>الى حد ما</td>\n",
       "      <td>موافق تماما</td>\n",
       "      <td>موافق تماما</td>\n",
       "      <td>موافق تماما</td>\n",
       "      <td>موافق تماما</td>\n",
       "      <td>موافق تماما</td>\n",
       "      <td>موافق تماما</td>\n",
       "      <td>موافق تماما</td>\n",
       "      <td>الى حد ما</td>\n",
       "    </tr>\n",
       "    <tr>\n",
       "      <th>3</th>\n",
       "      <td>أنثى</td>\n",
       "      <td>من 50 سنة – فأكثر</td>\n",
       "      <td>مطلق</td>\n",
       "      <td>جامعى (ليسانس - بكالوريوس )</td>\n",
       "      <td>دبلومة - ماجستير</td>\n",
       "      <td>من 20 سنة – فأكثر</td>\n",
       "      <td>غير موافق مطلقا</td>\n",
       "      <td>غير موافق</td>\n",
       "      <td>غير موافق مطلقا</td>\n",
       "      <td>الى حد ما</td>\n",
       "      <td>...</td>\n",
       "      <td>الى حد ما</td>\n",
       "      <td>الى حد ما</td>\n",
       "      <td>موافق تماما</td>\n",
       "      <td>موافق تماما</td>\n",
       "      <td>موافق تماما</td>\n",
       "      <td>موافق تماما</td>\n",
       "      <td>موافق تماما</td>\n",
       "      <td>موافق تماما</td>\n",
       "      <td>موافق تماما</td>\n",
       "      <td>الى حد ما</td>\n",
       "    </tr>\n",
       "    <tr>\n",
       "      <th>4</th>\n",
       "      <td>أنثى</td>\n",
       "      <td>من 30 سنة - إلى أقل من 40 سنة</td>\n",
       "      <td>متزوج</td>\n",
       "      <td>جامعى (ليسانس - بكالوريوس )</td>\n",
       "      <td>دكتوراه</td>\n",
       "      <td>من 10سنة - إلى أقل من 15 سنة</td>\n",
       "      <td>موافق</td>\n",
       "      <td>الى حد ما</td>\n",
       "      <td>الى حد ما</td>\n",
       "      <td>الى حد ما</td>\n",
       "      <td>...</td>\n",
       "      <td>موافق</td>\n",
       "      <td>الى حد ما</td>\n",
       "      <td>موافق تماما</td>\n",
       "      <td>موافق</td>\n",
       "      <td>موافق</td>\n",
       "      <td>موافق</td>\n",
       "      <td>الى حد ما</td>\n",
       "      <td>الى حد ما</td>\n",
       "      <td>موافق</td>\n",
       "      <td>الى حد ما</td>\n",
       "    </tr>\n",
       "  </tbody>\n",
       "</table>\n",
       "<p>5 rows × 40 columns</p>\n",
       "</div>"
      ],
      "text/plain": [
       "  النوع                          العمر الحالة الإجتماعية  \\\n",
       "0   ذكر  من 20 سنة - إلى أقل من 30 سنة              مطلق   \n",
       "1  أنثى  من 40 سنة - إلى أقل من 50 سنة             متزوج   \n",
       "2   ذكر              من 50 سنة – فأكثر             متزوج   \n",
       "3  أنثى              من 50 سنة – فأكثر              مطلق   \n",
       "4  أنثى  من 30 سنة - إلى أقل من 40 سنة             متزوج   \n",
       "\n",
       "              المستوى التعليمى       دراسات عليا  \\\n",
       "0                    معهد عالى  دبلومة - ماجستير   \n",
       "1  جامعى (ليسانس - بكالوريوس )           دكتوراه   \n",
       "2  جامعى (ليسانس - بكالوريوس )  دبلومة - ماجستير   \n",
       "3  جامعى (ليسانس - بكالوريوس )  دبلومة - ماجستير   \n",
       "4  جامعى (ليسانس - بكالوريوس )           دكتوراه   \n",
       "\n",
       "  مدة الخدمة فى الوظيفة الحالية الإدارة العليا تسعى بإستمرار الى تحسين الآداء  \\\n",
       "0      من سنة إلى اقل من5 سنوات                                     غير موافق   \n",
       "1  من 15سنة - إلى أقل من 20 سنة                                         موافق   \n",
       "2             من 20 سنة – فأكثر                                         موافق   \n",
       "3             من 20 سنة – فأكثر                               غير موافق مطلقا   \n",
       "4  من 10سنة - إلى أقل من 15 سنة                                         موافق   \n",
       "\n",
       "  توفر الادارة للعاملين كافة المتطلبات لإكتساب المهارات اللازمة للتفاعل مع التكنولوجيا   \\\n",
       "0                                          غير موافق                                      \n",
       "1                                              موافق                                      \n",
       "2                                          الى حد ما                                      \n",
       "3                                          غير موافق                                      \n",
       "4                                          الى حد ما                                      \n",
       "\n",
       "  تشجع الإدارة العاملين على ابتكار طرق جديدة للتعامل مع التقنيات الرقمية   \\\n",
       "0                                          الى حد ما                        \n",
       "1                                              موافق                        \n",
       "2                                              موافق                        \n",
       "3                                    غير موافق مطلقا                        \n",
       "4                                          الى حد ما                        \n",
       "\n",
       "  الإدارة العليا تتفاوض بشكل فعال لإزالة العقبات   ...  \\\n",
       "0                                       غير موافق  ...   \n",
       "1                                           موافق  ...   \n",
       "2                                           موافق  ...   \n",
       "3                                       الى حد ما  ...   \n",
       "4                                       الى حد ما  ...   \n",
       "\n",
       "  يقترح اساليب وطرق جديدة لتحقيق الأهداف التنظيمية   \\\n",
       "0                                         الى حد ما   \n",
       "1                                             موافق   \n",
       "2                                         الى حد ما   \n",
       "3                                         الى حد ما   \n",
       "4                                             موافق   \n",
       "\n",
       "  يبحث العاملون عن افكار جديدة لتحسين استخدام التكنولوجيا بالادارة   \\\n",
       "0                                          غير موافق                  \n",
       "1                                              موافق                  \n",
       "2                                          الى حد ما                  \n",
       "3                                          الى حد ما                  \n",
       "4                                          الى حد ما                  \n",
       "\n",
       "  تجعلنى التكنولوجيا اكثر انتاجاً  \\\n",
       "0                       الى حد ما   \n",
       "1                           موافق   \n",
       "2                     موافق تماما   \n",
       "3                     موافق تماما   \n",
       "4                     موافق تماما   \n",
       "\n",
       "  تساعدنى التكنولوجيا الرقمية الى تحسين الطريقة التى اعمل بها فى الجامعة   \\\n",
       "0                                          غير موافق                        \n",
       "1                                        موافق تماما                        \n",
       "2                                        موافق تماما                        \n",
       "3                                        موافق تماما                        \n",
       "4                                              موافق                        \n",
       "\n",
       "  تؤدى التكنولوجيا الرقمية الى تحسين الطريقة التى اعمل بها فى الجامعة   \\\n",
       "0                                          غير موافق                     \n",
       "1                                        موافق تماما                     \n",
       "2                                        موافق تماما                     \n",
       "3                                        موافق تماما                     \n",
       "4                                              موافق                     \n",
       "\n",
       "  تجعلنى التكنولوجيا اكثر انتاجاً  \\\n",
       "0                       الى حد ما   \n",
       "1                           موافق   \n",
       "2                     موافق تماما   \n",
       "3                     موافق تماما   \n",
       "4                           موافق   \n",
       "\n",
       "  يساهم التحول الرقمى فى تحسين كفاءتى فى العمل   \\\n",
       "0                                     غير موافق   \n",
       "1                                   موافق تماما   \n",
       "2                                   موافق تماما   \n",
       "3                                   موافق تماما   \n",
       "4                                     الى حد ما   \n",
       "\n",
       "  تساهم التكنولوجيا الجديدة فى ربط الجامعة بكافة المتعاملين معه من خلال المنصات الإفتراضية   \\\n",
       "0                                          غير موافق                                          \n",
       "1                                              موافق                                          \n",
       "2                                        موافق تماما                                          \n",
       "3                                        موافق تماما                                          \n",
       "4                                          الى حد ما                                          \n",
       "\n",
       "  تساهم التكنولوجيا الجديدة فى تيسير عمليات التواصل والتفاعل مع الطلاب    \\\n",
       "0                                          غير موافق                       \n",
       "1                                              موافق                       \n",
       "2                                        موافق تماما                       \n",
       "3                                        موافق تماما                       \n",
       "4                                              موافق                       \n",
       "\n",
       "  ادى استخدام التكنولوجيا الجديدة الى تخفيض عدد المستويات الادارية   \n",
       "0                                          غير موافق                 \n",
       "1                                          الى حد ما                 \n",
       "2                                          الى حد ما                 \n",
       "3                                          الى حد ما                 \n",
       "4                                          الى حد ما                 \n",
       "\n",
       "[5 rows x 40 columns]"
      ]
     },
     "execution_count": 62,
     "metadata": {},
     "output_type": "execute_result"
    }
   ],
   "source": [
    "df=Data_read()\n",
    "df.head(5)"
   ]
  },
  {
   "cell_type": "code",
   "execution_count": null,
   "id": "592dedb7",
   "metadata": {},
   "outputs": [],
   "source": [
    "# data_info = data.info()\n",
    "# summary = data.describe(include='all', datetime_is_numeric=True)  # Includes numeric and categorical\n",
    "# data_info\n"
   ]
  },
  {
   "cell_type": "code",
   "execution_count": 63,
   "id": "2bf0986f",
   "metadata": {},
   "outputs": [
    {
     "data": {
      "text/plain": [
       "من 15سنة - إلى أقل من 20 سنة    80\n",
       "من 20 سنة – فأكثر               72\n",
       "من 10سنة - إلى أقل من 15 سنة    57\n",
       "من 5 سنوات إلى أقل من 10 سنة    38\n",
       "من سنة إلى اقل من5 سنوات        25\n",
       "Name: مدة الخدمة فى الوظيفة الحالية, dtype: int64"
      ]
     },
     "execution_count": 63,
     "metadata": {},
     "output_type": "execute_result"
    }
   ],
   "source": [
    "df[\"مدة الخدمة فى الوظيفة الحالية\"].value_counts()"
   ]
  },
  {
   "cell_type": "code",
   "execution_count": 68,
   "id": "409fb98c",
   "metadata": {},
   "outputs": [],
   "source": [
    "# import matplotlib.pyplot as plt\n",
    "# from arabic_reshaper import reshape\n",
    "# from bidi.algorithm import get_display\n",
    "# # Reshape Arabic text and apply BiDi algorithm\n",
    "# df.index = df.index.map(lambda x: get_display(reshape(str(x))))\n",
    "# df.columns = df.columns.map(lambda x: get_display(reshape(x)))\n",
    "# df.columns\n",
    "df1=Data_read()\n"
   ]
  },
  {
   "cell_type": "code",
   "execution_count": 72,
   "id": "932849f8",
   "metadata": {},
   "outputs": [
    {
     "data": {
      "text/plain": [
       "Index(['من 15سنة - إلى أقل من 20 سنة', 'من 20 سنة – فأكثر',\n",
       "       'من 10سنة - إلى أقل من 15 سنة', 'من 5 سنوات إلى أقل من 10 سنة',\n",
       "       'من سنة إلى اقل من5 سنوات'],\n",
       "      dtype='object')"
      ]
     },
     "execution_count": 72,
     "metadata": {},
     "output_type": "execute_result"
    }
   ],
   "source": [
    "d=df1[\"مدة الخدمة فى الوظيفة الحالية\"].value_counts()\n",
    "#d.index"
   ]
  },
  {
   "cell_type": "code",
   "execution_count": null,
   "id": "b1df27f2",
   "metadata": {},
   "outputs": [],
   "source": [
    "import matplotlib.pyplot as plt\n",
    "from matplotlib import rcParams\n",
    "from arabic_reshaper import reshape\n",
    "from bidi.algorithm import get_display\n",
    "import pandas as pd\n",
    "\n",
    "data = df1[\"مدة الخدمة فى الوظيفة الحالية\"].value_counts()\n",
    "df = pd.DataFrame(data)\n",
    "\n",
    "# Reshape Arabic text and apply BiDi algorithm\n",
    "categories = [get_display(reshape(label)) for label in df.columns]\n",
    "df.index = [get_display(reshape(index)) for index in df.index]\n",
    "\n",
    "# Configure Matplotlib to use an Arabic-supported font\n",
    "# Replace 'Arial' with the installed font name if required\n",
    "rcParams['font.family'] = 'Arial'\n",
    "\n",
    "# Plot\n",
    "plt.figure(figsize=(10, 5))\n",
    "plt.bar(df.index, df[\"مدة الخدمة فى الوظيفة الحالية\"], color='skyblue')\n",
    "\n",
    "# Add labels and title\n",
    "plt.xlabel(categories[0], fontsize=14, fontweight='bold')\n",
    "plt.ylabel(get_display(reshape(\"عدد الموظفين\")),\n",
    "        fontsize=14, fontweight='bold')\n",
    "plt.title(get_display(reshape(\"عدد الموظفين في كل مدة الخدمة\")),\n",
    "        fontsize=16, fontweight='bold')\n",
    "\n",
    "# Enhance plot appearance\n",
    "plt.xticks(rotation=45, ha='right', fontsize=12)\n",
    "plt.yticks(fontsize=12)\n",
    "plt.grid(axis='y', linestyle='--', alpha=0.7)\n",
    "\n",
    "# Save the plot\n",
    "plt.tight_layout()  # Adjust layout to avoid clipping of labels\n",
    "plt.savefig('service_duration_plot.png', dpi=300,\n",
    "            bbox_inches='tight')  # Save with high resolution\n",
    "\n",
    "# Show the plot\n",
    "plt.show()"
   ]
  },
  {
   "cell_type": "code",
   "execution_count": null,
   "id": "2e3e2dad",
   "metadata": {},
   "outputs": [],
   "source": []
  },
  {
   "cell_type": "code",
   "execution_count": 87,
   "id": "b2d630d2",
   "metadata": {},
   "outputs": [],
   "source": [
    "import matplotlib.pyplot as plt\n",
    "from matplotlib import rcParams\n",
    "from arabic_reshaper import reshape\n",
    "from bidi.algorithm import get_display\n",
    "import pandas as pd\n",
    "\n",
    "def get_count_plot(value_counts,Coulmname,nameofplot,titleofplot=\"\",ylabel=\"عدد الموظفين\"):\n",
    "# Sample data\n",
    "    data = value_counts\n",
    "    df = pd.DataFrame(data)\n",
    "\n",
    "    # Reshape Arabic text and apply BiDi algorithm\n",
    "    categories = [get_display(reshape(label)) for label in df.columns]\n",
    "    df.index = [get_display(reshape(index)) for index in df.index]\n",
    "\n",
    "    # Configure Matplotlib to use an Arabic-supported font\n",
    "    # Replace 'Arial' with the installed font name if required\n",
    "    rcParams['font.family'] = 'Arial'\n",
    "\n",
    "    # Plot\n",
    "    plt.figure(figsize=(10, 5))\n",
    "    plt.bar(df.index, df[Coulmname], color='skyblue')\n",
    "\n",
    "    # Add labels and title\n",
    "    plt.xlabel(categories[0], fontsize=14, fontweight='bold')\n",
    "    plt.ylabel(get_display(reshape(ylabel)),\n",
    "            fontsize=14, fontweight='bold')\n",
    "    \n",
    "    plt.title(get_display(reshape(titleofplot)),\n",
    "            fontsize=16, fontweight='bold')\n",
    "\n",
    "    # Enhance plot appearance\n",
    "    plt.xticks(rotation=45, ha='right', fontsize=12)\n",
    "    plt.yticks(fontsize=12)\n",
    "    plt.grid(axis='y', linestyle='--', alpha=0.7)\n",
    "\n",
    "    # Save the plot\n",
    "    plt.tight_layout()  # Adjust layout to avoid clipping of labels\n",
    "    plt.savefig(nameofplot+'.png', dpi=300,\n",
    "\n",
    "                bbox_inches='tight')  # Save with high resolution\n",
    "\n",
    "    # Show the plot\n",
    "    plt.show()\n",
    "    \n",
    "    \n",
    "    "
   ]
  },
  {
   "cell_type": "code",
   "execution_count": 88,
   "id": "a79b9987",
   "metadata": {},
   "outputs": [
    {
     "data": {
      "text/plain": [
       "أنثى    159\n",
       "ذكر     113\n",
       "Name: النوع, dtype: int64"
      ]
     },
     "execution_count": 88,
     "metadata": {},
     "output_type": "execute_result"
    }
   ],
   "source": [
    "#more analysis on different columns gender\n",
    "df1['النوع'].value_counts()"
   ]
  },
  {
   "cell_type": "code",
   "execution_count": 89,
   "id": "a8f9a60c",
   "metadata": {},
   "outputs": [
    {
     "data": {
      "image/png": "[encoded data removed]",
      "text/plain": [
       "<Figure size 720x360 with 1 Axes>"
      ]
     },
     "metadata": {
      "needs_background": "light"
     },
     "output_type": "display_data"
    }
   ],
   "source": [
    "\n",
    "get_count_plot(df1['النوع'].value_counts(),\"النوع\",\"عدد الموظفين\",\"نوع\",\"genderCounts\")\n"
   ]
  },
  {
   "cell_type": "code",
   "execution_count": 100,
   "id": "17fe41d6",
   "metadata": {},
   "outputs": [
    {
     "data": {
      "text/plain": [
       "من 40 سنة - إلى أقل من 50 سنة    99\n",
       "من 30 سنة - إلى أقل من 40 سنة    88\n",
       "من 50 سنة – فأكثر                50\n",
       "من 20 سنة - إلى أقل من 30 سنة    28\n",
       "أقل من 20 سنة                     7\n",
       "Name: العمر, dtype: int64"
      ]
     },
     "execution_count": 100,
     "metadata": {},
     "output_type": "execute_result"
    }
   ],
   "source": [
    "data=df1['العمر'].value_counts()\n",
    "data"
   ]
  },
  {
   "cell_type": "code",
   "execution_count": null,
   "id": "c1eed9bf",
   "metadata": {},
   "outputs": [
    {
     "data": {
      "image/png": "[encoded data removed]",
      "text/plain": [
       "<Figure size 720x360 with 1 Axes>"
      ]
     },
     "metadata": {
      "needs_background": "light"
     },
     "output_type": "display_data"
    }
   ],
   "source": [
    "data=df1['العمر'].value_counts()\n",
    "get_count_plot(data, 'العمر',nameofplot=\"ages\",titleofplot=\"اعمار الموظفين\")"
   ]
  },
  {
   "cell_type": "code",
   "execution_count": 113,
   "id": "92bcebda",
   "metadata": {},
   "outputs": [],
   "source": [
    "# #drawing count plot of age count with hue of sex\n",
    "\n",
    "\n",
    "# import matplotlib.pyplot as plt\n",
    "# import seaborn as sns\n",
    "\n",
    "# rcParams['font.family'] = 'Arial'\n",
    "# # Plot\n",
    "# plt.figure(figsize=(10, 5))\n",
    "# sns.countplot(x='العمر',hue='النوع',data=df1)\n",
    "# # Add labels and title\n",
    "# plt.xlabel(categories[0], fontsize=14, fontweight='bold')\n",
    "# plt.ylabel(get_display(reshape(\"العدد\")),\n",
    "#         fontsize=14, fontweight='bold')\n",
    "\n",
    "# plt.title(get_display(reshape(\"اعمار الموظفين لكل نوع\")),\n",
    "#         fontsize=16, fontweight='bold')\n",
    "\n",
    "# # Enhance plot appearance\n",
    "# plt.xticks(rotation=45, ha='right', fontsize=12)\n",
    "# plt.yticks(fontsize=12)\n",
    "# plt.grid(axis='y', linestyle='--', alpha=0.7)\n",
    "# plt.show()"
   ]
  },
  {
   "cell_type": "code",
   "execution_count": 117,
   "id": "060a59fa",
   "metadata": {},
   "outputs": [
    {
     "data": {
      "image/png": "[encoded data removed]",
      "text/plain": [
       "<Figure size 720x360 with 1 Axes>"
      ]
     },
     "metadata": {
      "needs_background": "light"
     },
     "output_type": "display_data"
    }
   ],
   "source": [
    "import matplotlib.pyplot as plt\n",
    "import seaborn as sns\n",
    "from matplotlib import rcParams\n",
    "from arabic_reshaper import reshape\n",
    "from bidi.algorithm import get_display\n",
    "\n",
    "# Assuming `df1` is your DataFrame and categories are already reshaped\n",
    "# Reshape Arabic text and apply BiDi algorithm\n",
    "categories = [get_display(reshape(label)) for label in df1['العمر'].unique()]\n",
    "\n",
    "# Configure Matplotlib to use an Arabic-supported font\n",
    "rcParams['font.family'] = 'Arial'  \n",
    "\n",
    "# Plot\n",
    "plt.figure(figsize=(10, 5))\n",
    "sns.countplot(x='العمر', hue='النوع', data=df1)\n",
    "\n",
    "# Add labels and title\n",
    "plt.xlabel(get_display(reshape(\"العمر\")), fontsize=14, fontweight='bold')\n",
    "plt.ylabel(get_display(reshape(\"العدد\")), fontsize=14, fontweight='bold')\n",
    "plt.title(get_display(reshape(\"اعمار الموظفين لكل نوع\")), fontsize=16, fontweight='bold')\n",
    "\n",
    "# Enhance plot appearance\n",
    "plt.xticks(rotation=45, ha='right', fontsize=12)\n",
    "plt.yticks(fontsize=12)\n",
    "plt.grid(axis='y', linestyle='--', alpha=0.7)\n",
    "\n",
    "#Fixing the Arabic in indexes\n",
    "ticks = plt.gca().get_xticklabels()\n",
    "ticks = [get_display(reshape(tick.get_text())) for tick in ticks]\n",
    "plt.gca().set_xticklabels(ticks, fontsize=14)\n",
    "\n",
    "# Fixing the legend with proper Arabic text\n",
    "handles, labels = plt.gca().get_legend_handles_labels()\n",
    "labels = [get_display(reshape(label)) for label in labels]  # Reshape legend labels\n",
    "plt.legend(handles, labels, title=get_display(reshape(\"النوع\")), fontsize=14)\n",
    "\n",
    "# Save the plot with high resolution\n",
    "plt.tight_layout()  # Adjust layout to avoid clipping of labels\n",
    "plt.savefig('age_sex_count_plot.png', dpi=300, bbox_inches='tight')  # Save as PNG\n",
    "\n",
    "# Show the plot\n",
    "plt.show()\n"
   ]
  },
  {
   "cell_type": "code",
   "execution_count": 110,
   "id": "53306bdd",
   "metadata": {},
   "outputs": [
    {
     "data": {
      "text/plain": [
       "'المستوى التعليمى'"
      ]
     },
     "execution_count": 110,
     "metadata": {},
     "output_type": "execute_result"
    }
   ],
   "source": [
    "df1.columns[3]"
   ]
  },
  {
   "cell_type": "code",
   "execution_count": null,
   "id": "93b06b59",
   "metadata": {},
   "outputs": [],
   "source": []
  },
  {
   "cell_type": "markdown",
   "id": "6c1bf120",
   "metadata": {},
   "source": [
    "# Column 3"
   ]
  },
  {
   "cell_type": "code",
   "execution_count": 112,
   "id": "57224b8a",
   "metadata": {},
   "outputs": [
    {
     "data": {
      "text/plain": [
       "جامعى (ليسانس - بكالوريوس )    200\n",
       "معهد عالى                       72\n",
       "Name: المستوى التعليمى, dtype: int64"
      ]
     },
     "execution_count": 112,
     "metadata": {},
     "output_type": "execute_result"
    }
   ],
   "source": [
    "df1[df1.columns[3]].value_counts()"
   ]
  },
  {
   "cell_type": "code",
   "execution_count": 118,
   "id": "caa3d220",
   "metadata": {},
   "outputs": [
    {
     "data": {
      "image/png": "[encoded data removed]",
      "text/plain": [
       "<Figure size 720x360 with 1 Axes>"
      ]
     },
     "metadata": {
      "needs_background": "light"
     },
     "output_type": "display_data"
    }
   ],
   "source": [
    "#df1.columns[3]\n",
    "# Set font family to support Arabic\n",
    "rcParams['font.family'] = 'Arial'\n",
    "\n",
    "# Plotting the count plot\n",
    "plt.figure(figsize=(10, 5))\n",
    "sns.countplot(x=\"المستوى التعليمى\", data=df1)\n",
    "#Fixing the indexing of arabic\n",
    "ticks=plt.gca().get_xticklabels()\n",
    "ticks = [get_display(reshape(tick.get_text())) for tick in ticks]\n",
    "plt.gca().set_xticklabels(ticks, fontsize=12)\n",
    "\n",
    "# Add labels and title\n",
    "plt.xlabel(get_display(reshape(\"المستوى التعليمي\")), fontsize=14, fontweight='bold')\n",
    "plt.ylabel(get_display(reshape(\"العدد\")), fontsize=14, fontweight='bold')\n",
    "plt.title(get_display(reshape(\"عدد الموظفين حسب المستوى العلمي\")), fontsize=16, fontweight='bold')\n",
    "\n",
    "# Enhance plot appearance\n",
    "plt.xticks(rotation=45, ha='right', fontsize=12)\n",
    "plt.yticks(fontsize=12)\n",
    "plt.grid(axis='y', linestyle='--', alpha=0.7)\n",
    "\n",
    "# Save the plot\n",
    "plt.tight_layout()  # Avoid clipping\n",
    "plt.savefig('education_level_count_plot.png', dpi=300, bbox_inches='tight')\n",
    "\n",
    "# Show the plot\n",
    "plt.show()\n"
   ]
  },
  {
   "cell_type": "code",
   "execution_count": 123,
   "id": "684a000b",
   "metadata": {},
   "outputs": [
    {
     "data": {
      "image/png": "[encoded data removed]",
      "text/plain": [
       "<Figure size 576x576 with 1 Axes>"
      ]
     },
     "metadata": {},
     "output_type": "display_data"
    }
   ],
   "source": [
    "import matplotlib.pyplot as plt\n",
    "import seaborn as sns\n",
    "from arabic_reshaper import reshape\n",
    "from bidi.algorithm import get_display\n",
    "\n",
    "# Count the occurrences of each education level\n",
    "education_counts = df1[df1.columns[3]].value_counts()\n",
    "\n",
    "# Reshape the labels for proper display in Arabic\n",
    "education_labels = [get_display(reshape(label)) for label in education_counts.index]\n",
    "\n",
    "# Plotting the pie chart\n",
    "plt.figure(figsize=(8, 8))\n",
    "plt.pie(education_counts, labels=education_labels, autopct='%1.1f%%', startangle=90, colors=sns.color_palette(\"Set2\", len(education_counts)))\n",
    "\n",
    "# Add a title with reshaped Arabic text\n",
    "plt.title(get_display(reshape(\"نسب الموظفين حسب المستوى العلمي\")), fontsize=16, fontweight='bold')\n",
    "\n",
    "# Ensure the Arabic labels are correctly displayed and rotate the chart for better visual appeal\n",
    "plt.axis('equal')  # Equal aspect ratio ensures that pie chart is circular.\n",
    "#Saving the plotting\n",
    "plt.tight_layout()  # Avoid clipping\n",
    "plt.savefig('education_level_count_plot2Pie.png', dpi=300, bbox_inches='tight')\n",
    "\n",
    "# Show the plot\n",
    "plt.show()\n"
   ]
  },
  {
   "cell_type": "code",
   "execution_count": 125,
   "id": "9bf1908b",
   "metadata": {},
   "outputs": [
    {
     "data": {
      "text/plain": [
       "Index(['النوع', 'العمر', 'الحالة الإجتماعية', 'المستوى التعليمى',\n",
       "       'دراسات عليا', 'مدة الخدمة فى الوظيفة الحالية',\n",
       "       'الإدارة العليا تسعى بإستمرار الى تحسين الآداء',\n",
       "       'توفر الادارة للعاملين كافة المتطلبات لإكتساب المهارات اللازمة للتفاعل مع التكنولوجيا ',\n",
       "       'تشجع الإدارة العاملين على ابتكار طرق جديدة للتعامل مع التقنيات الرقمية ',\n",
       "       'الإدارة العليا تتفاوض بشكل فعال لإزالة العقبات ',\n",
       "       'تجعل الإدارة العليا الموظفين متحمسين لأفكارهم المبدعة ',\n",
       "       'تضع الإدارة العليا خطه ابداعية للمنظمة',\n",
       "       'تخصص الادارة العليا الوقت لمساعدة الموظفين على ايجاد طرق جديدة لتحسين الإبتكار',\n",
       "       'تدعم االإدارة  الافكار الجديدة ',\n",
       "       'تخلق الإدارة العليا مناخا يشجع على الابتكار ',\n",
       "       'تركز الادارة العليا على تدريب الموظفين ',\n",
       "       'تنفق الادارة على استراجيات جديدة لتطوير المنظمة ',\n",
       "       'يتم تقييم الادارة  للعاملين بناءا على كفاءة استخدامهم للتكنولوجيا الجديدة ',\n",
       "       'تشجع الإدارة العاملين على استخدام الأساليب المبتكره فى العمل ',\n",
       "       'تضع الإدارة جداول زمنية لتنفيذ افكار العاملين الجديدة',\n",
       "       'تخصص الإدارة وقت كاف للتفكير عند ارتفاع درجة المخاطرة ',\n",
       "       'يأتى العاملون  بأفكار جديدة وعملية لتحسين الآداء ',\n",
       "       'يفكر العاملون فى اساليب جديدة لتحسين ادائهم الوظيفى ',\n",
       "       'يبادر العاملون فى نقل افكارهم الإبداعية للآخرين . تطبق الادارة طرق جديدة ',\n",
       "       'لدى العاملين القدرة  على اقناع الآخرين بأفكارهم ',\n",
       "       'يروج افكاره للآخرين ويدافع عنها  ',\n",
       "       'يعتبر مصدر جيد للأفكار الإبداعية ',\n",
       "       'يطرح العاملون افكار جديدة لتحسين اداء العمل ',\n",
       "       'يأتى بحلول ابداعية للمشاكل التى تواجه عمله ',\n",
       "       'يبحث عن تقنيات او عمليات او اساليب او افكار جديدة ',\n",
       "       'يقترح اساليب وطرق جديدة لتحقيق الأهداف التنظيمية ',\n",
       "       'يبحث العاملون عن افكار جديدة لتحسين استخدام التكنولوجيا بالادارة ',\n",
       "       'تجعلنى التكنولوجيا اكثر انتاجاً',\n",
       "       'تساعدنى التكنولوجيا الرقمية الى تحسين الطريقة التى اعمل بها فى الجامعة ',\n",
       "       'تؤدى التكنولوجيا الرقمية الى تحسين الطريقة التى اعمل بها فى الجامعة ',\n",
       "       'تجعلنى التكنولوجيا اكثر انتاجاً',\n",
       "       'يساهم التحول الرقمى فى تحسين كفاءتى فى العمل ',\n",
       "       'تساهم التكنولوجيا الجديدة فى ربط الجامعة بكافة المتعاملين معه من خلال المنصات الإفتراضية ',\n",
       "       'تساهم التكنولوجيا الجديدة فى تيسير عمليات التواصل والتفاعل مع الطلاب  ',\n",
       "       'ادى استخدام التكنولوجيا الجديدة الى تخفيض عدد المستويات الادارية '],\n",
       "      dtype='object')"
      ]
     },
     "execution_count": 125,
     "metadata": {},
     "output_type": "execute_result"
    }
   ],
   "source": [
    "df1.columns"
   ]
  },
  {
   "cell_type": "code",
   "execution_count": null,
   "id": "7d2536b7",
   "metadata": {},
   "outputs": [],
   "source": []
  }
 ],
 "metadata": {
  "kernelspec": {
   "display_name": "gan",
   "language": "python",
   "name": "gan"
  },
  "language_info": {
   "codemirror_mode": {
    "name": "ipython",
    "version": 3
   },
   "file_extension": ".py",
   "mimetype": "text/x-python",
   "name": "python",
   "nbconvert_exporter": "python",
   "pygments_lexer": "ipython3",
   "version": "3.10.4"
  }
 },
 "nbformat": 4,
 "nbformat_minor": 5
}
