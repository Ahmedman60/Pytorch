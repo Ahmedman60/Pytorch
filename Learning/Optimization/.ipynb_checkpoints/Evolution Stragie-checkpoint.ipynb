{
 "cells": [
  {
   "cell_type": "code",
   "execution_count": 1,
   "metadata": {},
   "outputs": [],
   "source": [
    "import numpy as np\n",
    "\n",
    "# Define the Rastrigin function as the objective function\n",
    "\n",
    "\n",
    "def rastrigin(x):\n",
    "    A = 10\n",
    "    return A * len(x) + sum([(xi**2 - A * np.cos(2 * np.pi * xi)) for xi in x])\n",
    "\n",
    "# Evolution Strategy Algorithm"
   ]
  },
  {
   "cell_type": "code",
   "execution_count": 2,
   "metadata": {},
   "outputs": [],
   "source": [
    "# Parameters\n",
    "mu = 5            # Number of parents\n",
    "lambd = 20        # Number of children\n",
    "dim = 5           # Dimensionality of the solution\n",
    "generations = 50  # Number of generations\n",
    "bounds = (-5.12, 5.12)  # Rastrigin bounds"
   ]
  },
  {
   "cell_type": "code",
   "execution_count": 4,
   "metadata": {},
   "outputs": [
    {
     "data": {
      "text/plain": [
       "[array([-3.25276183,  1.25500112,  4.44914896,  4.34738747, -4.72348437]),\n",
       " array([ 4.40319043,  0.0929843 , -2.28198347,  4.91130633, -1.86868703]),\n",
       " array([-0.95237203,  3.32650344,  2.24873584,  1.5123518 , -0.81015937]),\n",
       " array([ 3.05732023,  0.61961726,  3.3495228 , -2.54992958,  2.00344187]),\n",
       " array([-1.27954035,  4.16250381,  2.22545829, -1.91127829,  4.41934815]),\n",
       " array([ 5.09783555,  2.41078183, -0.0291712 ,  4.68756021, -1.36542702]),\n",
       " array([ 1.32696506,  3.01517265,  3.36964752,  3.73013806, -1.335403  ]),\n",
       " array([ 2.51222613, -2.36689327, -4.04284684,  2.71954605,  0.6117494 ]),\n",
       " array([ 2.7659331 , -4.36893491,  3.56925045, -0.95059675, -4.55009817]),\n",
       " array([ 2.90635328, -3.24177503,  2.00592525,  1.7374867 ,  1.34751109]),\n",
       " array([ 1.87576401,  5.0894393 , -3.38422481,  2.37793935, -4.80813073]),\n",
       " array([-1.90090035, -2.160143  , -2.14821571, -0.67792289,  3.52715165]),\n",
       " array([-1.67864275, -0.15517054,  1.6365389 , -4.11994954, -4.44847695]),\n",
       " array([ 4.02403394, -1.41015171,  2.60404664, -3.83014296, -2.44253578]),\n",
       " array([-4.03396431,  0.51773296,  2.8415936 , -0.19664689,  1.02256506]),\n",
       " array([ 1.97480873, -0.9266674 ,  4.18672338,  1.4207769 , -4.59447464]),\n",
       " array([ 2.83471499, -0.04453907, -3.07636297, -3.28198876, -3.05343673]),\n",
       " array([ 3.86162275,  4.13428475, -3.0307112 , -0.0227349 ,  2.18399921]),\n",
       " array([-4.88343713, -4.5640665 ,  1.83137064, -1.61311473, -4.14266724]),\n",
       " array([ 4.91184948,  3.87970587, -2.89154166,  1.05841881, -4.89538137])]"
      ]
     },
     "execution_count": 4,
     "metadata": {},
     "output_type": "execute_result"
    }
   ],
   "source": [
    "population = [np.random.uniform(bounds[0], bounds[1], dim)\n",
    "            for _ in range(lambd)]\n",
    "population"
   ]
  },
  {
   "cell_type": "code",
   "execution_count": 5,
   "metadata": {},
   "outputs": [
    {
     "data": {
      "text/plain": [
       "(20, 5)"
      ]
     },
     "execution_count": 5,
     "metadata": {},
     "output_type": "execute_result"
    }
   ],
   "source": [
    "#geting the dim of population\n",
    "len(population),len(population[0])"
   ]
  },
  {
   "cell_type": "code",
   "execution_count": 9,
   "metadata": {},
   "outputs": [
    {
     "data": {
      "text/plain": [
       "array([ 3.25276183, -1.25500112, -4.44914896, -4.34738747,  4.72348437])"
      ]
     },
     "execution_count": 9,
     "metadata": {},
     "output_type": "execute_result"
    }
   ],
   "source": [
    "population[0]# *-1"
   ]
  },
  {
   "cell_type": "code",
   "execution_count": 13,
   "metadata": {},
   "outputs": [
    {
     "data": {
      "text/plain": [
       "array([4, 0, 1], dtype=int64)"
      ]
     },
     "execution_count": 13,
     "metadata": {},
     "output_type": "execute_result"
    }
   ],
   "source": [
    "np.argsort(population[0])[:3]  #this gives you the lowest 3 because of fitness we need the minmum cost.  if you want the highest multiple by negative 1"
   ]
  },
  {
   "cell_type": "code",
   "execution_count": 8,
   "metadata": {},
   "outputs": [
    {
     "data": {
      "text/plain": [
       "array([4, 0, 1], dtype=int64)"
      ]
     },
     "execution_count": 8,
     "metadata": {},
     "output_type": "execute_result"
    }
   ],
   "source": [
    "np.argpartition(population[0],3)[:3]\n",
    "#this is faster it doesn't sort the population it gives you the top 3 but not sorted and this what you want .\n",
    "#the argsort sort them."
   ]
  },
  {
   "cell_type": "code",
   "execution_count": 23,
   "metadata": {},
   "outputs": [
    {
     "data": {
      "text/plain": [
       "array([ 0.0644361 , -0.32506553, -0.12473504, -0.4443007 , -0.74531529])"
      ]
     },
     "execution_count": 23,
     "metadata": {},
     "output_type": "execute_result"
    }
   ],
   "source": [
    "np.random.normal(0, 1, dim)"
   ]
  },
  {
   "cell_type": "markdown",
   "metadata": {},
   "source": [
    "The main difference between argsort and argpartition lies in how they retrieve the indices of the top elements in a list and how they perform with respect to computational efficiency.\n",
    "\n",
    "1. argsort:\n",
    "Description: argsort returns the indices that would sort the array in ascending order. If you want the top 5 elements, it sorts the entire array first and then selects the top 5.\n",
    "Time Complexity: Sorting the entire array has a time complexity of O(n log n), where n is the number of elements in the array.\n",
    "Use case: When you need the entire sorted order of elements.\n",
    "2. argpartition:\n",
    "Description: argpartition doesn't fully sort the array. Instead, it partitions the array around the k-th largest element (or smallest, depending on the use case), and only ensures that the top k elements are on one side (but not sorted). It’s more efficient when you only need the top k elements, not the full order.\n",
    "Time Complexity: The time complexity of argpartition is O(n), which is much faster than sorting for large arrays.\n",
    "Use case: When you only care about the top k elements and don't need the full sorted order."
   ]
  },
  {
   "cell_type": "markdown",
   "metadata": {},
   "source": []
  },
  {
   "cell_type": "code",
   "execution_count": 14,
   "metadata": {},
   "outputs": [],
   "source": [
    "x=[7, 2, 1, 8, 6, 3, 5, 4]\n",
    "#We want the 3 smallest items (k = 3)."
   ]
  },
  {
   "cell_type": "code",
   "execution_count": null,
   "metadata": {},
   "outputs": [],
   "source": [
    "#Step 1: Pick a Pivot\n",
    "#Let’s pick the last item (4) as the pivot.\n",
    "#Step 2: Partition the List\n",
    "#Compare each item to 4 and rearrange:\n",
    "#Smaller than 4: [2, 1, 3]\n",
    "#Larger than 4: [8, 6, 7, 5]\n",
    "#Put the pivot 4 in between: [2, 1, 3, 4, 8, 6, 7, 5].  #still not the numbers before it the lowest\n",
    "\n"
   ]
  },
  {
   "cell_type": "markdown",
   "metadata": {},
   "source": [
    "Let’s go step by step with the same list, but this time, we’ll choose **8** as the pivot instead of the last item.\n",
    "\n",
    "---\n",
    "\n",
    "### Example Input:\n",
    "`arr = [7, 2, 1, 8, 6, 3, 5, 4]`  \n",
    "We want the **3 smallest items (`k = 3`)**.\n",
    "\n",
    "---\n",
    "\n",
    "### Step 1: Choose Pivot\n",
    "We pick **8** as the pivot.\n",
    "\n",
    "---\n",
    "\n",
    "### Step 2: Partition the List\n",
    "We rearrange the list such that:\n",
    "- **Items smaller than or equal to 8 go to the left.**\n",
    "- **Items larger than 8 go to the right.**\n",
    "\n",
    "#### Comparison:\n",
    "- `7 <= 8` → stays on the left.\n",
    "- `2 <= 8` → stays on the left.\n",
    "- `1 <= 8` → stays on the left.\n",
    "- `8 == 8` → stays on the left.\n",
    "- `6 <= 8` → stays on the left.\n",
    "- `3 <= 8` → stays on the left.\n",
    "- `5 <= 8` → stays on the left.\n",
    "- `4 <= 8` → stays on the left.\n",
    "\n",
    "#### Result After Partition:\n",
    "The pivot `8` is already the largest number, so the entire list stays as is:  \n",
    "`[7, 2, 1, 8, 6, 3, 5, 4]`.\n",
    "\n",
    "The pivot `8` ends up at position `7` (indexing starts at 0).\n",
    "\n",
    "---\n",
    "\n",
    "### Step 3: Check the Pivot’s Position\n",
    "- We want the first **3 smallest items** (`k = 3`), but the pivot `8` is at position `7`, which is **too far to the right**.\n",
    "- This means we only need to focus on the **left part** of the list:  \n",
    "  `[7, 2, 1, 6, 3, 5, 4]`.\n",
    "\n",
    "---\n",
    "\n",
    "### Step 4: Repeat with a New Pivot\n",
    "Now, we repeat the process on `[7, 2, 1, 6, 3, 5, 4]`. Let’s choose a new pivot (e.g., `4`).\n",
    "\n",
    "---\n",
    "\n",
    "#### Partition Around Pivot `4`:\n",
    "- Compare each item:\n",
    "  - `7 > 4` → goes to the right.\n",
    "  - `2 <= 4` → stays on the left.\n",
    "  - `1 <= 4` → stays on the left.\n",
    "  - `6 > 4` → goes to the right.\n",
    "  - `3 <= 4` → stays on the left.\n",
    "  - `5 > 4` → goes to the right.\n",
    "\n",
    "#### Result After Partition:\n",
    "`[2, 1, 3, 4, 7, 6, 5]`.\n",
    "\n",
    "The pivot `4` is now at position `3`.\n",
    "\n",
    "---\n",
    "\n",
    "### Step 5: Check the Pivot’s Position Again\n",
    "- The pivot `4` is at position `3`.  \n",
    "- We only need the first **3 smallest items** (`k = 3`), so we focus on the left part:  \n",
    "  `[2, 1, 3]`.\n",
    "\n",
    "---\n",
    "\n",
    "### Step 6: Repeat on `[2, 1, 3]`\n",
    "Now, partition `[2, 1, 3]`. Let’s pick `3` as the pivot.\n",
    "\n",
    "#### Partition Around Pivot `3`:\n",
    "- Compare each item:\n",
    "  - `2 <= 3` → stays on the left.\n",
    "  - `1 <= 3` → stays on the left.\n",
    "\n",
    "#### Result After Partition:\n",
    "`[2, 1, 3]`.\n",
    "\n",
    "The pivot `3` is at position `2`.\n",
    "\n",
    "---\n",
    "\n",
    "### Step 7: Stop\n",
    "- The pivot `3` is at position `2`.  \n",
    "- This means the first **3 smallest items** are already in place:  \n",
    "  `[2, 1, 3]`.\n",
    "\n",
    "---\n",
    "\n",
    "### Final Result:\n",
    "The first **3 smallest items** are `[2, 1, 3]`. The rest of the list `[4, 7, 6, 5]` is unsorted.\n",
    "\n",
    "---\n",
    "\n",
    "### Key Idea:\n",
    "No matter what pivot you choose, the algorithm **keeps narrowing down** the part of the list you care about (the left part where the smallest `k` items are) until it’s done."
   ]
  },
  {
   "cell_type": "code",
   "execution_count": 15,
   "metadata": {},
   "outputs": [],
   "source": [
    "def find_k_smallest(arr, k):\n",
    "    left, right = 0, len(arr) - 1\n",
    "    \n",
    "    while True:\n",
    "        # Partition the array and get the pivot index\n",
    "        pivot_index = partition(arr, left, right)\n",
    "        \n",
    "        if pivot_index == k - 1:\n",
    "            # Found the correct position for the k smallest items\n",
    "            return arr[:k]\n",
    "        elif pivot_index > k - 1:\n",
    "            # Search the left part\n",
    "            right = pivot_index - 1\n",
    "        else:\n",
    "            # Search the right part\n",
    "            left = pivot_index + 1\n",
    "\n",
    "def partition(arr, left, right):\n",
    "    pivot = arr[right]  # Choose the last element as the pivot\n",
    "    i = left - 1  # Pointer for smaller elements\n",
    "\n",
    "    for j in range(left, right):\n",
    "        if arr[j] <= pivot:\n",
    "            i += 1\n",
    "            arr[i], arr[j] = arr[j], arr[i]  # Swap smaller element to the left\n",
    "    \n",
    "    # Place the pivot in its correct position\n",
    "    arr[i + 1], arr[right] = arr[right], arr[i + 1]\n",
    "    return i + 1"
   ]
  },
  {
   "cell_type": "code",
   "execution_count": 16,
   "metadata": {},
   "outputs": [
    {
     "name": "stdout",
     "output_type": "stream",
     "text": [
      "[2, 1, 3]\n"
     ]
    }
   ],
   "source": [
    "arr = [7, 2, 1, 8, 6, 3, 5, 4]\n",
    "k = 3\n",
    "result = find_k_smallest(arr, k)\n",
    "print(result)  # Output: [2, 1, 3] (order may vary)\n"
   ]
  },
  {
   "cell_type": "code",
   "execution_count": null,
   "metadata": {},
   "outputs": [],
   "source": [
    "def find_k_smallest(arr, k):\n",
    "    while True:\n",
    "        pivot = arr[-1]  # Choose the last element as the pivot\n",
    "        left = [x for x in arr if x <= pivot]  # Elements <= pivot\n",
    "        right = [x for x in arr if x > pivot]  # Elements > pivot\n",
    "\n",
    "        if len(left) == k:  # Found exactly k smallest elements\n",
    "            return left\n",
    "        elif len(left) > k:  # Too many elements, focus on the left part\n",
    "            arr = left\n",
    "        else:  # Not enough elements, combine left and part of the right\n",
    "            arr = left + right\n",
    "            k -= len(left)  # Adjust k to account for items already found\n"
   ]
  }
 ],
 "metadata": {
  "kernelspec": {
   "display_name": "Python 3 (ipykernel)",
   "language": "python",
   "name": "python3"
  },
  "language_info": {
   "codemirror_mode": {
    "name": "ipython",
    "version": 3
   },
   "file_extension": ".py",
   "mimetype": "text/x-python",
   "name": "python",
   "nbconvert_exporter": "python",
   "pygments_lexer": "ipython3",
   "version": "3.10.2"
  }
 },
 "nbformat": 4,
 "nbformat_minor": 2
}
