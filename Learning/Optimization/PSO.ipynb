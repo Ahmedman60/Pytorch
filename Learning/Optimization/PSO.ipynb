{
  "nbformat": 4,
  "nbformat_minor": 0,
  "metadata": {
    "colab": {
      "provenance": []
    },
    "kernelspec": {
      "name": "python3",
      "display_name": "Python 3"
    },
    "language_info": {
      "name": "python"
    }
  },
  "cells": [
    {
      "cell_type": "code",
      "execution_count": 17,
      "metadata": {
        "id": "z0bw4CrXmVMV"
      },
      "outputs": [],
      "source": [
        "import pandas as pd\n",
        "import numpy as np"
      ]
    },
    {
      "cell_type": "code",
      "source": [
        "def objective_function(params):\n",
        "  x,y,z=params[0],params[1],params[2]\n",
        "  #single objective function\n",
        "  result=(x-4)**2+(y-5)**2+(z+6)**2\n",
        "  return result"
      ],
      "metadata": {
        "id": "Dx2V3eRikwe6"
      },
      "execution_count": 18,
      "outputs": []
    },
    {
      "cell_type": "code",
      "source": [
        "bound=np.array([-10,10])\n",
        "bound"
      ],
      "metadata": {
        "colab": {
          "base_uri": "https://localhost:8080/"
        },
        "id": "Puibll4BlLFx",
        "outputId": "b9ccb2b7-0a12-4ceb-ffe0-2a6b652f349c"
      },
      "execution_count": 19,
      "outputs": [
        {
          "output_type": "execute_result",
          "data": {
            "text/plain": [
              "array([-10,  10])"
            ]
          },
          "metadata": {},
          "execution_count": 19
        }
      ]
    },
    {
      "cell_type": "code",
      "source": [
        "w=0.8\n",
        "c1=2\n",
        "c2=2\n",
        "n_particle=20\n",
        "max_iteration=50"
      ],
      "metadata": {
        "id": "5n0lwXKEnhKX"
      },
      "execution_count": 20,
      "outputs": []
    },
    {
      "cell_type": "code",
      "source": [
        "# Intitalization of particles and velocity"
      ],
      "metadata": {
        "id": "ngLdQFZspf-g"
      },
      "execution_count": 21,
      "outputs": []
    },
    {
      "cell_type": "code",
      "source": [
        "particles=np.random.uniform(bound[0],bound[1],size=(n_particle,3))\n",
        "particles"
      ],
      "metadata": {
        "colab": {
          "base_uri": "https://localhost:8080/"
        },
        "id": "x-8JG9bpnzp2",
        "outputId": "921d9152-a207-4530-8fff-eba7cc6963d3"
      },
      "execution_count": 22,
      "outputs": [
        {
          "output_type": "execute_result",
          "data": {
            "text/plain": [
              "array([[ 7.33480584, -6.87304549, -4.32103639],\n",
              "       [ 5.62667544, -2.48234971,  7.60685025],\n",
              "       [ 8.96475458,  0.58038599,  0.42698686],\n",
              "       [ 0.948659  ,  8.19242635, -1.29544667],\n",
              "       [-9.39826872, -1.19121828, -1.35464897],\n",
              "       [-4.20030831, -5.9378451 , -8.20321599],\n",
              "       [ 2.19356288,  9.64556049,  4.28587743],\n",
              "       [-3.40325295, -8.75015735,  2.89170225],\n",
              "       [-5.5435454 ,  9.39492336,  4.94894756],\n",
              "       [-2.89534983, -8.93688012,  0.93350165],\n",
              "       [ 2.14253279,  7.23941366, -2.63605031],\n",
              "       [-7.7249089 , -6.74945128, -0.87523881],\n",
              "       [ 0.57963236,  0.89999233,  0.22808379],\n",
              "       [ 8.45011016,  3.81489682, -5.53018517],\n",
              "       [ 2.41525632,  1.29280108, -6.23151916],\n",
              "       [ 9.48636994, -7.58086919,  7.05891809],\n",
              "       [ 5.19735692, -3.55060186,  1.68258392],\n",
              "       [-7.49742649, -3.64240583, -6.79203948],\n",
              "       [ 4.06450451,  5.59003805,  9.05506944],\n",
              "       [-2.09643346,  2.47204263,  8.51421792]])"
            ]
          },
          "metadata": {},
          "execution_count": 22
        }
      ]
    },
    {
      "cell_type": "code",
      "source": [
        "velocity=np.zeros((n_particle,3))\n",
        "velocity"
      ],
      "metadata": {
        "colab": {
          "base_uri": "https://localhost:8080/"
        },
        "id": "ISbrSuvPoAS-",
        "outputId": "e2b4e694-d555-433b-b221-898d638ea567"
      },
      "execution_count": 23,
      "outputs": [
        {
          "output_type": "execute_result",
          "data": {
            "text/plain": [
              "array([[0., 0., 0.],\n",
              "       [0., 0., 0.],\n",
              "       [0., 0., 0.],\n",
              "       [0., 0., 0.],\n",
              "       [0., 0., 0.],\n",
              "       [0., 0., 0.],\n",
              "       [0., 0., 0.],\n",
              "       [0., 0., 0.],\n",
              "       [0., 0., 0.],\n",
              "       [0., 0., 0.],\n",
              "       [0., 0., 0.],\n",
              "       [0., 0., 0.],\n",
              "       [0., 0., 0.],\n",
              "       [0., 0., 0.],\n",
              "       [0., 0., 0.],\n",
              "       [0., 0., 0.],\n",
              "       [0., 0., 0.],\n",
              "       [0., 0., 0.],\n",
              "       [0., 0., 0.],\n",
              "       [0., 0., 0.]])"
            ]
          },
          "metadata": {},
          "execution_count": 23
        }
      ]
    },
    {
      "cell_type": "code",
      "source": [
        "#intialization of local_best and global_best\n",
        "best_position=particles.copy()\n",
        "best_fitness=np.zeros(n_particle)\n",
        "for i in range(n_particle):\n",
        "  best_fitness[i]=objective_function(particles[i])"
      ],
      "metadata": {
        "id": "FD5j0GNNpJM2"
      },
      "execution_count": 24,
      "outputs": []
    },
    {
      "cell_type": "code",
      "source": [
        "#intialize the global_best\n",
        "global_best_fitness=best_fitness.min()\n",
        "global_best_position=best_position[best_fitness.argmin()]\n",
        "global_best_position"
      ],
      "metadata": {
        "colab": {
          "base_uri": "https://localhost:8080/"
        },
        "id": "K3EunhNBp6gI",
        "outputId": "735de8c3-f334-4863-db9b-16aacbb41fba"
      },
      "execution_count": 25,
      "outputs": [
        {
          "output_type": "execute_result",
          "data": {
            "text/plain": [
              "array([ 2.41525632,  1.29280108, -6.23151916])"
            ]
          },
          "metadata": {},
          "execution_count": 25
        }
      ]
    },
    {
      "cell_type": "markdown",
      "source": [
        "# Now the optimization steps\n",
        "\n",
        "\n",
        "\n",
        "```\n",
        "r1=np.random.rand(n_particle,3)\n",
        "cognetive_velocity=c1*r1*(best_position-particles)\n",
        "cognetive_velocity\n",
        "```\n",
        "\n"
      ],
      "metadata": {
        "id": "s2nw3MBWsM3f"
      }
    },
    {
      "cell_type": "code",
      "source": [
        "for i in range(max_iteration):\n",
        "  #update velocity\n",
        "  r1=np.random.rand(n_particle,3) #this is random vector which we mutliple by the vector of velocity. update cognitive velocity\n",
        "  r2=np.random.rand(n_particle,3) #this is random vector which we mutliple by the vector of velocity. update global velocity\n",
        "\n",
        "  cognetive_velocity=c1*r1*(best_position-particles)\n",
        "\n",
        "  social_velocity=c2*r2*(global_best_position-particles)\n",
        "\n",
        "  #inertia is w.\n",
        "  velocity=w * velocity + cognetive_velocity + social_velocity\n",
        "\n",
        "  #update position\n",
        "  particles=particles+velocity\n",
        "\n",
        "  #cliping\n",
        "  particles=np.clip(particles,bound[0],bound[1])\n",
        "  #cliping velocity\n",
        "  velocity = np.clip(velocity, -abs(bound[1]-bound[0]), abs(bound[1]-bound[0]))\n",
        "\n",
        "  #evaluate\n",
        "  fitness=np.array([objective_function(p) for p in particles])\n",
        "\n",
        "  #update best local\n",
        "  for j in range(n_particle):\n",
        "    if fitness[j]<best_fitness[j]:\n",
        "      best_fitness[j]=fitness[j]\n",
        "      best_position[j]=particles[j].copy()\n",
        "      #the above is updaing the vector based if new value is better than the current best local only.\n",
        "\n",
        "  #update global best\n",
        "  if best_fitness.min()<global_best_fitness:\n",
        "    global_best_fitness=best_fitness.min()\n",
        "    global_best_position=best_position[best_fitness.argmin()] #gives the particle the vector\n",
        "\n",
        "  #inertia decay\n",
        "  w = 0.9 - (0.5 * i / max_iteration)\n",
        "\n",
        "  print(f'iteration {i+1}')\n",
        "\n",
        "  print(f\"Global Best Position: {global_best_position}\")\n",
        "  print(f\"Global Best Fitness: {global_best_fitness}\")\n",
        "\n",
        "\n"
      ],
      "metadata": {
        "colab": {
          "base_uri": "https://localhost:8080/"
        },
        "id": "RQqWFjkYrWLi",
        "outputId": "350abf35-1415-4114-a733-70a3d5f70453"
      },
      "execution_count": 26,
      "outputs": [
        {
          "output_type": "stream",
          "name": "stdout",
          "text": [
            "iteration 1\n",
            "Global Best Position: [ 2.67571965  2.46436286 -3.70360251]\n",
            "Global Best Fitness: 13.456615592245601\n",
            "iteration 2\n",
            "Global Best Position: [ 2.45800397  3.30229454 -5.03406765]\n",
            "Global Best Fitness: 6.1929808922064655\n",
            "iteration 3\n",
            "Global Best Position: [ 2.45800397  3.30229454 -5.03406765]\n",
            "Global Best Fitness: 6.1929808922064655\n",
            "iteration 4\n",
            "Global Best Position: [ 2.51570536  4.45830546 -4.74906218]\n",
            "Global Best Fitness: 4.061409003999431\n",
            "iteration 5\n",
            "Global Best Position: [ 4.36586598  4.30339698 -6.39258046]\n",
            "Global Best Fitness: 0.7732331014483156\n",
            "iteration 6\n",
            "Global Best Position: [ 4.36586598  4.30339698 -6.39258046]\n",
            "Global Best Fitness: 0.7732331014483156\n",
            "iteration 7\n",
            "Global Best Position: [ 4.36586598  4.30339698 -6.39258046]\n",
            "Global Best Fitness: 0.7732331014483156\n",
            "iteration 8\n",
            "Global Best Position: [ 4.36586598  4.30339698 -6.39258046]\n",
            "Global Best Fitness: 0.7732331014483156\n",
            "iteration 9\n",
            "Global Best Position: [ 4.36586598  4.30339698 -6.39258046]\n",
            "Global Best Fitness: 0.7732331014483156\n",
            "iteration 10\n",
            "Global Best Position: [ 4.36586598  4.30339698 -6.39258046]\n",
            "Global Best Fitness: 0.7732331014483156\n",
            "iteration 11\n",
            "Global Best Position: [ 4.36586598  4.30339698 -6.39258046]\n",
            "Global Best Fitness: 0.7732331014483156\n",
            "iteration 12\n",
            "Global Best Position: [ 4.36586598  4.30339698 -6.39258046]\n",
            "Global Best Fitness: 0.7732331014483156\n",
            "iteration 13\n",
            "Global Best Position: [ 4.36586598  4.30339698 -6.39258046]\n",
            "Global Best Fitness: 0.7732331014483156\n",
            "iteration 14\n",
            "Global Best Position: [ 4.36586598  4.30339698 -6.39258046]\n",
            "Global Best Fitness: 0.7732331014483156\n",
            "iteration 15\n",
            "Global Best Position: [ 4.36586598  4.30339698 -6.39258046]\n",
            "Global Best Fitness: 0.7732331014483156\n",
            "iteration 16\n",
            "Global Best Position: [ 4.36586598  4.30339698 -6.39258046]\n",
            "Global Best Fitness: 0.7732331014483156\n",
            "iteration 17\n",
            "Global Best Position: [ 3.87934705  4.29083765 -5.76822396]\n",
            "Global Best Fitness: 0.5711884993915899\n",
            "iteration 18\n",
            "Global Best Position: [ 3.87934705  4.29083765 -5.76822396]\n",
            "Global Best Fitness: 0.5711884993915899\n",
            "iteration 19\n",
            "Global Best Position: [ 3.87934705  4.29083765 -5.76822396]\n",
            "Global Best Fitness: 0.5711884993915899\n",
            "iteration 20\n",
            "Global Best Position: [ 3.87934705  4.29083765 -5.76822396]\n",
            "Global Best Fitness: 0.5711884993915899\n",
            "iteration 21\n",
            "Global Best Position: [ 3.87934705  4.29083765 -5.76822396]\n",
            "Global Best Fitness: 0.5711884993915899\n",
            "iteration 22\n",
            "Global Best Position: [ 4.33308677  4.77428993 -5.86443283]\n",
            "Global Best Fitness: 0.18027029054984536\n",
            "iteration 23\n",
            "Global Best Position: [ 4.33308677  4.77428993 -5.86443283]\n",
            "Global Best Fitness: 0.18027029054984536\n",
            "iteration 24\n",
            "Global Best Position: [ 4.33308677  4.77428993 -5.86443283]\n",
            "Global Best Fitness: 0.18027029054984536\n",
            "iteration 25\n",
            "Global Best Position: [ 4.33308677  4.77428993 -5.86443283]\n",
            "Global Best Fitness: 0.18027029054984536\n",
            "iteration 26\n",
            "Global Best Position: [ 4.33308677  4.77428993 -5.86443283]\n",
            "Global Best Fitness: 0.18027029054984536\n",
            "iteration 27\n",
            "Global Best Position: [ 4.12825432  4.98009523 -5.82005836]\n",
            "Global Best Fitness: 0.049224366035684336\n",
            "iteration 28\n",
            "Global Best Position: [ 4.12825432  4.98009523 -5.82005836]\n",
            "Global Best Fitness: 0.049224366035684336\n",
            "iteration 29\n",
            "Global Best Position: [ 4.12825432  4.98009523 -5.82005836]\n",
            "Global Best Fitness: 0.049224366035684336\n",
            "iteration 30\n",
            "Global Best Position: [ 3.93816469  4.98703189 -5.98744315]\n",
            "Global Best Fitness: 0.00414945236074217\n",
            "iteration 31\n",
            "Global Best Position: [ 3.93816469  4.98703189 -5.98744315]\n",
            "Global Best Fitness: 0.00414945236074217\n",
            "iteration 32\n",
            "Global Best Position: [ 3.93816469  4.98703189 -5.98744315]\n",
            "Global Best Fitness: 0.00414945236074217\n",
            "iteration 33\n",
            "Global Best Position: [ 3.93816469  4.98703189 -5.98744315]\n",
            "Global Best Fitness: 0.00414945236074217\n",
            "iteration 34\n",
            "Global Best Position: [ 3.97606994  4.9759932  -6.04630716]\n",
            "Global Best Fitness: 0.0032933273455027275\n",
            "iteration 35\n",
            "Global Best Position: [ 3.97606994  4.9759932  -6.04630716]\n",
            "Global Best Fitness: 0.0032933273455027275\n",
            "iteration 36\n",
            "Global Best Position: [ 3.96548568  5.01656092 -6.03849649]\n",
            "Global Best Fitness: 0.0029474822932535616\n",
            "iteration 37\n",
            "Global Best Position: [ 3.96548568  5.01656092 -6.03849649]\n",
            "Global Best Fitness: 0.0029474822932535616\n",
            "iteration 38\n",
            "Global Best Position: [ 3.96548568  5.01656092 -6.03849649]\n",
            "Global Best Fitness: 0.0029474822932535616\n",
            "iteration 39\n",
            "Global Best Position: [ 3.96620507  4.97303216 -6.01580769]\n",
            "Global Best Fitness: 0.002119244615102545\n",
            "iteration 40\n",
            "Global Best Position: [ 3.99370695  5.014752   -6.02857627]\n",
            "Global Best Fitness: 0.0010738271639432685\n",
            "iteration 41\n",
            "Global Best Position: [ 3.99370695  5.014752   -6.02857627]\n",
            "Global Best Fitness: 0.0010738271639432685\n",
            "iteration 42\n",
            "Global Best Position: [ 3.99370695  5.014752   -6.02857627]\n",
            "Global Best Fitness: 0.0010738271639432685\n",
            "iteration 43\n",
            "Global Best Position: [ 3.99370695  5.014752   -6.02857627]\n",
            "Global Best Fitness: 0.0010738271639432685\n",
            "iteration 44\n",
            "Global Best Position: [ 3.99370695  5.014752   -6.02857627]\n",
            "Global Best Fitness: 0.0010738271639432685\n",
            "iteration 45\n",
            "Global Best Position: [ 3.99370695  5.014752   -6.02857627]\n",
            "Global Best Fitness: 0.0010738271639432685\n",
            "iteration 46\n",
            "Global Best Position: [ 3.99370695  5.014752   -6.02857627]\n",
            "Global Best Fitness: 0.0010738271639432685\n",
            "iteration 47\n",
            "Global Best Position: [ 3.99206839  4.98769472 -5.99540576]\n",
            "Global Best Fitness: 0.00023543747254897127\n",
            "iteration 48\n",
            "Global Best Position: [ 3.99206839  4.98769472 -5.99540576]\n",
            "Global Best Fitness: 0.00023543747254897127\n",
            "iteration 49\n",
            "Global Best Position: [ 3.99205433  5.00064484 -6.00190003]\n",
            "Global Best Fitness: 6.715957281097622e-05\n",
            "iteration 50\n",
            "Global Best Position: [ 3.99205433  5.00064484 -6.00190003]\n",
            "Global Best Fitness: 6.715957281097622e-05\n"
          ]
        }
      ]
    },
    {
      "cell_type": "markdown",
      "source": [
        "# Code For visualization"
      ],
      "metadata": {
        "id": "_ddx4mlFB5Rx"
      }
    },
    {
      "cell_type": "code",
      "source": [
        "import numpy as np\n",
        "import matplotlib.pyplot as plt\n",
        "from matplotlib.animation import FuncAnimation\n",
        "from mpl_toolkits.mplot3d import Axes3D\n",
        "\n",
        "# Objective function\n",
        "def objective_function(params):\n",
        "    x, y, z = params[0], params[1], params[2]\n",
        "    return (x - 4)**2 + (y - 5)**2 + (z + 6)**2\n",
        "\n",
        "# Parameters\n",
        "bound = np.array([-10, 10])\n",
        "n_particle = 20\n",
        "max_iteration = 50\n",
        "c1, c2 = 2.0, 2.0\n",
        "w_max = 0.9\n",
        "w_min = 0.4\n",
        "dim = 3\n",
        "\n",
        "# Initialize particles\n",
        "particles = np.random.uniform(bound[0], bound[1], size=(n_particle, dim))\n",
        "velocity = np.zeros((n_particle, dim))\n",
        "best_position = particles.copy()\n",
        "best_fitness = np.array([objective_function(p) for p in particles])\n",
        "\n",
        "# Initialize global best\n",
        "global_best_index = best_fitness.argmin()\n",
        "global_best_position = best_position[global_best_index].copy()\n",
        "global_best_fitness = best_fitness[global_best_index]\n",
        "\n",
        "# Store positions for animation\n",
        "positions_history = [particles.copy()]\n",
        "\n",
        "# PSO Loop\n",
        "for iteration in range(max_iteration):\n",
        "    # Update inertia weight\n",
        "    w = w_max - (w_max - w_min) * (iteration / max_iteration)\n",
        "\n",
        "    r1 = np.random.rand(n_particle, dim)\n",
        "    r2 = np.random.rand(n_particle, dim)\n",
        "\n",
        "    cognitive_velocity = c1 * r1 * (best_position - particles)\n",
        "    social_velocity = c2 * r2 * (global_best_position - particles)\n",
        "\n",
        "    velocity = w * velocity + cognitive_velocity + social_velocity\n",
        "    particles += velocity\n",
        "    particles = np.clip(particles, bound[0], bound[1])\n",
        "\n",
        "    fitness = np.array([objective_function(p) for p in particles])\n",
        "\n",
        "    # Update personal bests\n",
        "    improved = fitness < best_fitness\n",
        "    best_fitness[improved] = fitness[improved]\n",
        "    best_position[improved] = particles[improved]\n",
        "\n",
        "    # Update global best\n",
        "    current_global_best_index = best_fitness.argmin()\n",
        "    current_global_best_fitness = best_fitness[current_global_best_index]\n",
        "\n",
        "    if current_global_best_fitness < global_best_fitness:\n",
        "        global_best_fitness = current_global_best_fitness\n",
        "        global_best_position = best_position[current_global_best_index].copy()\n",
        "\n",
        "    positions_history.append(particles.copy())\n",
        "\n",
        "    print(f\"Iteration {iteration+1}: Global Best Fitness = {global_best_fitness:.6f}\")\n",
        "\n",
        "    # Optional early stopping\n",
        "    if global_best_fitness < 1e-6:\n",
        "        print(\"Converged early.\")\n",
        "        break\n",
        "\n",
        "# Final result\n",
        "print(\"\\nConverged Global Best Position:\", global_best_position)\n",
        "print(\"Global Best Fitness:\", global_best_fitness)\n"
      ],
      "metadata": {
        "colab": {
          "base_uri": "https://localhost:8080/"
        },
        "id": "xYYE0SuKCD5G",
        "outputId": "5a729ea4-4ad4-456e-c7c4-5f17ee5643ef"
      },
      "execution_count": 15,
      "outputs": [
        {
          "output_type": "stream",
          "name": "stdout",
          "text": [
            "Iteration 1: Global Best Fitness = 6.507885\n",
            "Iteration 2: Global Best Fitness = 6.507885\n",
            "Iteration 3: Global Best Fitness = 6.174307\n",
            "Iteration 4: Global Best Fitness = 6.174307\n",
            "Iteration 5: Global Best Fitness = 5.827789\n",
            "Iteration 6: Global Best Fitness = 1.458288\n",
            "Iteration 7: Global Best Fitness = 1.458288\n",
            "Iteration 8: Global Best Fitness = 1.458288\n",
            "Iteration 9: Global Best Fitness = 0.539004\n",
            "Iteration 10: Global Best Fitness = 0.539004\n",
            "Iteration 11: Global Best Fitness = 0.489954\n",
            "Iteration 12: Global Best Fitness = 0.489954\n",
            "Iteration 13: Global Best Fitness = 0.489954\n",
            "Iteration 14: Global Best Fitness = 0.489954\n",
            "Iteration 15: Global Best Fitness = 0.489954\n",
            "Iteration 16: Global Best Fitness = 0.334607\n",
            "Iteration 17: Global Best Fitness = 0.334607\n",
            "Iteration 18: Global Best Fitness = 0.334607\n",
            "Iteration 19: Global Best Fitness = 0.334607\n",
            "Iteration 20: Global Best Fitness = 0.334607\n",
            "Iteration 21: Global Best Fitness = 0.334607\n",
            "Iteration 22: Global Best Fitness = 0.267530\n",
            "Iteration 23: Global Best Fitness = 0.267530\n",
            "Iteration 24: Global Best Fitness = 0.263478\n",
            "Iteration 25: Global Best Fitness = 0.263478\n",
            "Iteration 26: Global Best Fitness = 0.263478\n",
            "Iteration 27: Global Best Fitness = 0.062544\n",
            "Iteration 28: Global Best Fitness = 0.062544\n",
            "Iteration 29: Global Best Fitness = 0.016951\n",
            "Iteration 30: Global Best Fitness = 0.016951\n",
            "Iteration 31: Global Best Fitness = 0.015430\n",
            "Iteration 32: Global Best Fitness = 0.015430\n",
            "Iteration 33: Global Best Fitness = 0.015430\n",
            "Iteration 34: Global Best Fitness = 0.008958\n",
            "Iteration 35: Global Best Fitness = 0.008958\n",
            "Iteration 36: Global Best Fitness = 0.008958\n",
            "Iteration 37: Global Best Fitness = 0.008958\n",
            "Iteration 38: Global Best Fitness = 0.003476\n",
            "Iteration 39: Global Best Fitness = 0.002240\n",
            "Iteration 40: Global Best Fitness = 0.002240\n",
            "Iteration 41: Global Best Fitness = 0.001284\n",
            "Iteration 42: Global Best Fitness = 0.000440\n",
            "Iteration 43: Global Best Fitness = 0.000440\n",
            "Iteration 44: Global Best Fitness = 0.000440\n",
            "Iteration 45: Global Best Fitness = 0.000440\n",
            "Iteration 46: Global Best Fitness = 0.000346\n",
            "Iteration 47: Global Best Fitness = 0.000024\n",
            "Iteration 48: Global Best Fitness = 0.000024\n",
            "Iteration 49: Global Best Fitness = 0.000024\n",
            "Iteration 50: Global Best Fitness = 0.000016\n",
            "\n",
            "Converged Global Best Position: [ 4.00063548  4.99612092 -6.0002821 ]\n",
            "Global Best Fitness: 1.553066397780234e-05\n"
          ]
        }
      ]
    },
    {
      "cell_type": "code",
      "source": [
        "import numpy as np\n",
        "import matplotlib.pyplot as plt\n",
        "from matplotlib.animation import FuncAnimation\n",
        "from mpl_toolkits.mplot3d import Axes3D\n",
        "\n",
        "# Objective function\n",
        "def objective_function(params):\n",
        "    x, y, z = params[0], params[1], params[2]\n",
        "    return (x - 4)**2 + (y - 5)**2 + (z + 6)**2\n",
        "\n",
        "# Parameters\n",
        "bound = np.array([-10, 10])\n",
        "n_particle = 20\n",
        "max_iteration = 50\n",
        "c1, c2 = 2.0, 2.0\n",
        "w_max = 0.9\n",
        "w_min = 0.4\n",
        "dim = 3\n",
        "\n",
        "# Initialize particles\n",
        "particles = np.random.uniform(bound[0], bound[1], size=(n_particle, dim))\n",
        "velocity = np.zeros((n_particle, dim))\n",
        "best_position = particles.copy()\n",
        "best_fitness = np.array([objective_function(p) for p in particles])\n",
        "\n",
        "# Initialize global best\n",
        "global_best_index = best_fitness.argmin()\n",
        "global_best_position = best_position[global_best_index].copy()\n",
        "global_best_fitness = best_fitness[global_best_index]\n",
        "\n",
        "# Store positions for animation\n",
        "positions_history = [particles.copy()]\n",
        "\n",
        "# PSO Loop\n",
        "for iteration in range(max_iteration):\n",
        "    # Update inertia weight\n",
        "    w = w_max - (w_max - w_min) * (iteration / max_iteration)\n",
        "\n",
        "    r1 = np.random.rand(n_particle, dim)\n",
        "    r2 = np.random.rand(n_particle, dim)\n",
        "\n",
        "    cognitive_velocity = c1 * r1 * (best_position - particles)\n",
        "    social_velocity = c2 * r2 * (global_best_position - particles)\n",
        "\n",
        "    velocity = w * velocity + cognitive_velocity + social_velocity\n",
        "    particles += velocity\n",
        "    particles = np.clip(particles, bound[0], bound[1])\n",
        "\n",
        "    fitness = np.array([objective_function(p) for p in particles])\n",
        "\n",
        "    # Update personal bests\n",
        "    improved = fitness < best_fitness\n",
        "    best_fitness[improved] = fitness[improved]\n",
        "    best_position[improved] = particles[improved]\n",
        "\n",
        "    # Update global best\n",
        "    current_global_best_index = best_fitness.argmin()\n",
        "    current_global_best_fitness = best_fitness[current_global_best_index]\n",
        "\n",
        "    if current_global_best_fitness < global_best_fitness:\n",
        "        global_best_fitness = current_global_best_fitness\n",
        "        global_best_position = best_position[current_global_best_index].copy()\n",
        "\n",
        "    positions_history.append(particles.copy())\n",
        "\n",
        "    print(f\"Iteration {iteration+1}: Global Best Fitness = {global_best_fitness:.6f}\")\n",
        "\n",
        "    # Optional early stopping\n",
        "    if global_best_fitness < 1e-6:\n",
        "        print(\"Converged early.\")\n",
        "        break\n",
        "\n",
        "# Final result\n",
        "print(\"\\n✅ Converged Global Best Position:\", global_best_position)\n",
        "print(\"✅ Global Best Fitness:\", global_best_fitness)\n",
        "\n",
        "# ==========================================\n",
        "# ✅ Animation: Save as 3D GIF\n",
        "# ==========================================\n",
        "fig = plt.figure()\n",
        "ax = fig.add_subplot(111, projection='3d')\n",
        "\n",
        "def update(frame):\n",
        "    ax.clear()\n",
        "    ax.set_xlim(bound[0], bound[1])\n",
        "    ax.set_ylim(bound[0], bound[1])\n",
        "    ax.set_zlim(bound[0], bound[1])\n",
        "    ax.set_title(f\"Iteration {frame+1}\", fontsize=12)\n",
        "\n",
        "    data = positions_history[frame]\n",
        "    ax.scatter(data[:, 0], data[:, 1], data[:, 2], color='blue', s=50, label='Particles')\n",
        "    ax.scatter(global_best_position[0], global_best_position[1], global_best_position[2],\n",
        "               color='red', s=100, marker='*', label='Global Best')\n",
        "\n",
        "    ax.legend()\n",
        "\n",
        "# Animate\n",
        "anim = FuncAnimation(fig, update, frames=len(positions_history), interval=250)\n",
        "\n",
        "# Save to gif (requires pillow)\n",
        "anim.save(\"pso_3d_feto.gif\", writer=\"pillow\", fps=5)\n",
        "plt.close()\n",
        "\n",
        "print(\"🎥 GIF saved as 'pso_3d.gif'\")\n"
      ],
      "metadata": {
        "colab": {
          "base_uri": "https://localhost:8080/"
        },
        "id": "38vJEoBGDGaW",
        "outputId": "b6992883-816d-4813-f373-c50dde49b9a4"
      },
      "execution_count": 16,
      "outputs": [
        {
          "output_type": "stream",
          "name": "stdout",
          "text": [
            "Iteration 1: Global Best Fitness = 0.359883\n",
            "Iteration 2: Global Best Fitness = 0.359883\n",
            "Iteration 3: Global Best Fitness = 0.359883\n",
            "Iteration 4: Global Best Fitness = 0.359883\n",
            "Iteration 5: Global Best Fitness = 0.359883\n",
            "Iteration 6: Global Best Fitness = 0.359883\n",
            "Iteration 7: Global Best Fitness = 0.304320\n",
            "Iteration 8: Global Best Fitness = 0.304320\n",
            "Iteration 9: Global Best Fitness = 0.304320\n",
            "Iteration 10: Global Best Fitness = 0.304320\n",
            "Iteration 11: Global Best Fitness = 0.304320\n",
            "Iteration 12: Global Best Fitness = 0.304320\n",
            "Iteration 13: Global Best Fitness = 0.304320\n",
            "Iteration 14: Global Best Fitness = 0.304320\n",
            "Iteration 15: Global Best Fitness = 0.234858\n",
            "Iteration 16: Global Best Fitness = 0.234858\n",
            "Iteration 17: Global Best Fitness = 0.234858\n",
            "Iteration 18: Global Best Fitness = 0.234858\n",
            "Iteration 19: Global Best Fitness = 0.234858\n",
            "Iteration 20: Global Best Fitness = 0.234858\n",
            "Iteration 21: Global Best Fitness = 0.131422\n",
            "Iteration 22: Global Best Fitness = 0.131422\n",
            "Iteration 23: Global Best Fitness = 0.131422\n",
            "Iteration 24: Global Best Fitness = 0.131422\n",
            "Iteration 25: Global Best Fitness = 0.131422\n",
            "Iteration 26: Global Best Fitness = 0.131422\n",
            "Iteration 27: Global Best Fitness = 0.098556\n",
            "Iteration 28: Global Best Fitness = 0.098556\n",
            "Iteration 29: Global Best Fitness = 0.071749\n",
            "Iteration 30: Global Best Fitness = 0.071749\n",
            "Iteration 31: Global Best Fitness = 0.071749\n",
            "Iteration 32: Global Best Fitness = 0.071749\n",
            "Iteration 33: Global Best Fitness = 0.071540\n",
            "Iteration 34: Global Best Fitness = 0.062829\n",
            "Iteration 35: Global Best Fitness = 0.044384\n",
            "Iteration 36: Global Best Fitness = 0.017539\n",
            "Iteration 37: Global Best Fitness = 0.013941\n",
            "Iteration 38: Global Best Fitness = 0.013941\n",
            "Iteration 39: Global Best Fitness = 0.012756\n",
            "Iteration 40: Global Best Fitness = 0.011951\n",
            "Iteration 41: Global Best Fitness = 0.006416\n",
            "Iteration 42: Global Best Fitness = 0.006416\n",
            "Iteration 43: Global Best Fitness = 0.004853\n",
            "Iteration 44: Global Best Fitness = 0.001071\n",
            "Iteration 45: Global Best Fitness = 0.000319\n",
            "Iteration 46: Global Best Fitness = 0.000184\n",
            "Iteration 47: Global Best Fitness = 0.000164\n",
            "Iteration 48: Global Best Fitness = 0.000163\n",
            "Iteration 49: Global Best Fitness = 0.000163\n",
            "Iteration 50: Global Best Fitness = 0.000044\n",
            "\n",
            "✅ Converged Global Best Position: [ 4.00608502  4.99769038 -5.99876379]\n",
            "✅ Global Best Fitness: 4.3890061467002056e-05\n",
            "🎥 GIF saved as 'pso_3d.gif'\n"
          ]
        }
      ]
    },
    {
      "cell_type": "code",
      "source": [],
      "metadata": {
        "id": "kfHEIBx1DY89"
      },
      "execution_count": null,
      "outputs": []
    }
  ]
}