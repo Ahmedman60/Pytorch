{
 "cells": [
  {
   "cell_type": "code",
   "execution_count": 2,
   "metadata": {},
   "outputs": [],
   "source": [
    "import numpy as np\n",
    "\n",
    "# Define the Rastrigin function as the objective function\n",
    "\n",
    "\n",
    "def rastrigin(x):\n",
    "    A = 10\n",
    "    return A * len(x) + sum([(xi**2 - A * np.cos(2 * np.pi * xi)) for xi in x])\n",
    "\n",
    "# Evolution Strategy Algorithm"
   ]
  },
  {
   "cell_type": "code",
   "execution_count": 3,
   "metadata": {},
   "outputs": [],
   "source": [
    "# Parameters\n",
    "mu = 5            # Number of parents\n",
    "lambd = 20        # Number of children\n",
    "dim = 5           # Dimensionality of the solution\n",
    "generations = 50  # Number of generations\n",
    "bounds = (-5.12, 5.12)  # Rastrigin bounds"
   ]
  },
  {
   "cell_type": "code",
   "execution_count": 4,
   "metadata": {},
   "outputs": [],
   "source": [
    "population = [np.random.uniform(bounds[0], bounds[1], dim)\n",
    "            for _ in range(lambd)]"
   ]
  },
  {
   "cell_type": "code",
   "execution_count": 12,
   "metadata": {},
   "outputs": [
    {
     "data": {
      "text/plain": [
       "(20, 5)"
      ]
     },
     "execution_count": 12,
     "metadata": {},
     "output_type": "execute_result"
    }
   ],
   "source": [
    "#geting the dim of population\n",
    "len(population),len(population[0])"
   ]
  },
  {
   "cell_type": "code",
   "execution_count": 21,
   "metadata": {},
   "outputs": [
    {
     "data": {
      "text/plain": [
       "array([0, 3, 2], dtype=int64)"
      ]
     },
     "execution_count": 21,
     "metadata": {},
     "output_type": "execute_result"
    }
   ],
   "source": [
    "np.argsort(population[0])[:3]"
   ]
  },
  {
   "cell_type": "code",
   "execution_count": 22,
   "metadata": {},
   "outputs": [
    {
     "data": {
      "text/plain": [
       "array([3, 0, 2], dtype=int64)"
      ]
     },
     "execution_count": 22,
     "metadata": {},
     "output_type": "execute_result"
    }
   ],
   "source": [
    "np.argpartition(population[0],3)[:3]\n",
    "#this is faster it doesn't sort the population it gives you the top 3 but not sorted and this what you want .\n",
    "#the argsort sort them."
   ]
  },
  {
   "cell_type": "code",
   "execution_count": 23,
   "metadata": {},
   "outputs": [
    {
     "data": {
      "text/plain": [
       "array([ 0.0644361 , -0.32506553, -0.12473504, -0.4443007 , -0.74531529])"
      ]
     },
     "execution_count": 23,
     "metadata": {},
     "output_type": "execute_result"
    }
   ],
   "source": [
    "np.random.normal(0, 1, dim)"
   ]
  },
  {
   "cell_type": "markdown",
   "metadata": {},
   "source": [
    "The main difference between argsort and argpartition lies in how they retrieve the indices of the top elements in a list and how they perform with respect to computational efficiency.\n",
    "\n",
    "1. argsort:\n",
    "Description: argsort returns the indices that would sort the array in ascending order. If you want the top 5 elements, it sorts the entire array first and then selects the top 5.\n",
    "Time Complexity: Sorting the entire array has a time complexity of O(n log n), where n is the number of elements in the array.\n",
    "Use case: When you need the entire sorted order of elements.\n",
    "2. argpartition:\n",
    "Description: argpartition doesn't fully sort the array. Instead, it partitions the array around the k-th largest element (or smallest, depending on the use case), and only ensures that the top k elements are on one side (but not sorted). It’s more efficient when you only need the top k elements, not the full order.\n",
    "Time Complexity: The time complexity of argpartition is O(n), which is much faster than sorting for large arrays.\n",
    "Use case: When you only care about the top k elements and don't need the full sorted order."
   ]
  },
  {
   "cell_type": "markdown",
   "metadata": {},
   "source": []
  }
 ],
 "metadata": {
  "kernelspec": {
   "display_name": "gan",
   "language": "python",
   "name": "python3"
  },
  "language_info": {
   "codemirror_mode": {
    "name": "ipython",
    "version": 3
   },
   "file_extension": ".py",
   "mimetype": "text/x-python",
   "name": "python",
   "nbconvert_exporter": "python",
   "pygments_lexer": "ipython3",
   "version": "3.11.11"
  }
 },
 "nbformat": 4,
 "nbformat_minor": 2
}
