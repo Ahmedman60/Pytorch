{
 "cells": [
  {
   "cell_type": "code",
   "execution_count": 8,
   "id": "6e77291e",
   "metadata": {},
   "outputs": [
    {
     "data": {
      "text/html": [
       "<div>\n",
       "<style scoped>\n",
       "    .dataframe tbody tr th:only-of-type {\n",
       "        vertical-align: middle;\n",
       "    }\n",
       "\n",
       "    .dataframe tbody tr th {\n",
       "        vertical-align: top;\n",
       "    }\n",
       "\n",
       "    .dataframe thead th {\n",
       "        text-align: right;\n",
       "    }\n",
       "</style>\n",
       "<table border=\"1\" class=\"dataframe\">\n",
       "  <thead>\n",
       "    <tr style=\"text-align: right;\">\n",
       "      <th></th>\n",
       "      <th>de</th>\n",
       "      <th>en</th>\n",
       "    </tr>\n",
       "  </thead>\n",
       "  <tbody>\n",
       "    <tr>\n",
       "      <th>0</th>\n",
       "      <td>Dies führt dazu, dass ein Spieler wie ich, die...</td>\n",
       "      <td>Which is what makes a player like me want to f...</td>\n",
       "    </tr>\n",
       "    <tr>\n",
       "      <th>1</th>\n",
       "      <td>Diese sternenbildende Region - von Wissenschaf...</td>\n",
       "      <td>This star-forming region - rather unromantical...</td>\n",
       "    </tr>\n",
       "    <tr>\n",
       "      <th>2</th>\n",
       "      <td>Wie sind Sie zu der Zusammenarbeit mit beiden ...</td>\n",
       "      <td>How did you end up working with them?</td>\n",
       "    </tr>\n",
       "    <tr>\n",
       "      <th>3</th>\n",
       "      <td>Nun sei die Zeit, das Volk an der Wahlurne ent...</td>\n",
       "      <td>Now is the time to let the population decide a...</td>\n",
       "    </tr>\n",
       "    <tr>\n",
       "      <th>4</th>\n",
       "      <td>Aber auch den vielen Wanderarbeitern, die das ...</td>\n",
       "      <td>Another factor is the large number of migrant ...</td>\n",
       "    </tr>\n",
       "  </tbody>\n",
       "</table>\n",
       "</div>"
      ],
      "text/plain": [
       "                                                  de  \\\n",
       "0  Dies führt dazu, dass ein Spieler wie ich, die...   \n",
       "1  Diese sternenbildende Region - von Wissenschaf...   \n",
       "2  Wie sind Sie zu der Zusammenarbeit mit beiden ...   \n",
       "3  Nun sei die Zeit, das Volk an der Wahlurne ent...   \n",
       "4  Aber auch den vielen Wanderarbeitern, die das ...   \n",
       "\n",
       "                                                  en  \n",
       "0  Which is what makes a player like me want to f...  \n",
       "1  This star-forming region - rather unromantical...  \n",
       "2              How did you end up working with them?  \n",
       "3  Now is the time to let the population decide a...  \n",
       "4  Another factor is the large number of migrant ...  "
      ]
     },
     "execution_count": 8,
     "metadata": {},
     "output_type": "execute_result"
    }
   ],
   "source": [
    "# -*- coding: utf-8 -*-\n",
    "from torchvision import transforms\n",
    "from torch.utils.data import Dataset\n",
    "import os\n",
    "import numpy as np\n",
    "import pandas as pd\n",
    "from PIL import Image\n",
    "import matplotlib.pyplot as plt\n",
    "# Define a function to load captions from a .txt file\n",
    "\n",
    "\n",
    "data = pd.read_csv(\"wmt14_translate_de-en_validation.csv\",encoding='utf-8')\n",
    "\n",
    "data.head(5)"
   ]
  },
  {
   "cell_type": "code",
   "execution_count": 9,
   "id": "0f26b0d4",
   "metadata": {},
   "outputs": [
    {
     "data": {
      "text/plain": [
       "0       Dies führt dazu, dass ein Spieler wie ich, die...\n",
       "1       Diese sternenbildende Region - von Wissenschaf...\n",
       "2       Wie sind Sie zu der Zusammenarbeit mit beiden ...\n",
       "3       Nun sei die Zeit, das Volk an der Wahlurne ent...\n",
       "4       Aber auch den vielen Wanderarbeitern, die das ...\n",
       "                              ...                        \n",
       "2995    Nein, es ist besser, sie hinter der Mauer in S...\n",
       "2996    In den Jahren 1965 bis 1968 wurde im Luftfahrt...\n",
       "2997    \"Scheinheiligkeit\" erwidern die Liberalen, die...\n",
       "2998    Im Heim Victor-Gadbois ist kein Tag wie der an...\n",
       "2999    Singapur braucht Babys zur Rettung der Wirtschaft\n",
       "Name: de, Length: 3000, dtype: object"
      ]
     },
     "execution_count": 9,
     "metadata": {},
     "output_type": "execute_result"
    }
   ],
   "source": [
    "data[\"de\"]"
   ]
  },
  {
   "cell_type": "code",
   "execution_count": null,
   "id": "ca262335",
   "metadata": {},
   "outputs": [],
   "source": []
  }
 ],
 "metadata": {
  "kernelspec": {
   "display_name": "Python 3 (ipykernel)",
   "language": "python",
   "name": "python3"
  },
  "language_info": {
   "codemirror_mode": {
    "name": "ipython",
    "version": 3
   },
   "file_extension": ".py",
   "mimetype": "text/x-python",
   "name": "python",
   "nbconvert_exporter": "python",
   "pygments_lexer": "ipython3",
   "version": "3.10.2"
  }
 },
 "nbformat": 4,
 "nbformat_minor": 5
}
